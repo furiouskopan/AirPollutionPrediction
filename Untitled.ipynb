{
 "cells": [
  {
   "cell_type": "code",
   "execution_count": 4,
   "id": "4136692e",
   "metadata": {
    "collapsed": true
   },
   "outputs": [
    {
     "name": "stdout",
     "output_type": "stream",
     "text": [
      "Defaulting to user installation because normal site-packages is not writeable\n",
      "Collecting xgboost\n",
      "  Downloading xgboost-1.7.6-py3-none-win_amd64.whl (70.9 MB)\n",
      "     ---------------------------------------- 70.9/70.9 MB 1.3 MB/s eta 0:00:00\n",
      "Requirement already satisfied: scipy in c:\\programdata\\anaconda3\\lib\\site-packages (from xgboost) (1.9.1)\n",
      "Requirement already satisfied: numpy in c:\\programdata\\anaconda3\\lib\\site-packages (from xgboost) (1.21.5)\n",
      "Installing collected packages: xgboost\n",
      "Successfully installed xgboost-1.7.6\n",
      "Note: you may need to restart the kernel to use updated packages.\n"
     ]
    }
   ],
   "source": [
    "pip install xgboost"
   ]
  },
  {
   "cell_type": "code",
   "execution_count": 17,
   "id": "481c2955",
   "metadata": {
    "collapsed": true
   },
   "outputs": [
    {
     "name": "stdout",
     "output_type": "stream",
     "text": [
      "Defaulting to user installation because normal site-packages is not writeable\n",
      "Collecting pmdarima\n",
      "  Downloading pmdarima-2.0.3-cp39-cp39-win_amd64.whl (572 kB)\n",
      "     ------------------------------------ 572.7/572.7 kB 922.1 kB/s eta 0:00:00\n",
      "Requirement already satisfied: setuptools!=50.0.0,>=38.6.0 in c:\\programdata\\anaconda3\\lib\\site-packages (from pmdarima) (63.4.1)\n",
      "Requirement already satisfied: urllib3 in c:\\programdata\\anaconda3\\lib\\site-packages (from pmdarima) (1.26.11)\n",
      "Requirement already satisfied: Cython!=0.29.18,!=0.29.31,>=0.29 in c:\\programdata\\anaconda3\\lib\\site-packages (from pmdarima) (0.29.32)\n",
      "Requirement already satisfied: joblib>=0.11 in c:\\programdata\\anaconda3\\lib\\site-packages (from pmdarima) (1.1.0)\n",
      "Requirement already satisfied: scikit-learn>=0.22 in c:\\programdata\\anaconda3\\lib\\site-packages (from pmdarima) (1.0.2)\n",
      "Requirement already satisfied: pandas>=0.19 in c:\\programdata\\anaconda3\\lib\\site-packages (from pmdarima) (1.4.4)\n",
      "Requirement already satisfied: scipy>=1.3.2 in c:\\programdata\\anaconda3\\lib\\site-packages (from pmdarima) (1.9.1)\n",
      "Requirement already satisfied: numpy>=1.21.2 in c:\\programdata\\anaconda3\\lib\\site-packages (from pmdarima) (1.21.5)\n",
      "Requirement already satisfied: statsmodels>=0.13.2 in c:\\programdata\\anaconda3\\lib\\site-packages (from pmdarima) (0.13.2)\n",
      "Requirement already satisfied: pytz>=2020.1 in c:\\programdata\\anaconda3\\lib\\site-packages (from pandas>=0.19->pmdarima) (2022.1)\n",
      "Requirement already satisfied: python-dateutil>=2.8.1 in c:\\programdata\\anaconda3\\lib\\site-packages (from pandas>=0.19->pmdarima) (2.8.2)\n",
      "Requirement already satisfied: threadpoolctl>=2.0.0 in c:\\programdata\\anaconda3\\lib\\site-packages (from scikit-learn>=0.22->pmdarima) (2.2.0)\n",
      "Requirement already satisfied: patsy>=0.5.2 in c:\\programdata\\anaconda3\\lib\\site-packages (from statsmodels>=0.13.2->pmdarima) (0.5.2)\n",
      "Requirement already satisfied: packaging>=21.3 in c:\\programdata\\anaconda3\\lib\\site-packages (from statsmodels>=0.13.2->pmdarima) (21.3)\n",
      "Requirement already satisfied: pyparsing!=3.0.5,>=2.0.2 in c:\\programdata\\anaconda3\\lib\\site-packages (from packaging>=21.3->statsmodels>=0.13.2->pmdarima) (3.0.9)\n",
      "Requirement already satisfied: six in c:\\programdata\\anaconda3\\lib\\site-packages (from patsy>=0.5.2->statsmodels>=0.13.2->pmdarima) (1.16.0)\n",
      "Installing collected packages: pmdarima\n",
      "Successfully installed pmdarima-2.0.3\n",
      "Note: you may need to restart the kernel to use updated packages.\n"
     ]
    }
   ],
   "source": [
    "pip install pmdarima"
   ]
  },
  {
   "cell_type": "code",
   "execution_count": 19,
   "id": "2e43a63e",
   "metadata": {},
   "outputs": [],
   "source": [
    "import pandas as pd\n",
    "import numpy as np\n",
    "from statsmodels.tsa.statespace.sarimax import SARIMAX\n",
    "from xgboost import XGBRegressor\n",
    "from sklearn.metrics import mean_absolute_error, mean_squared_error\n",
    "from math import sqrt\n",
    "import matplotlib.pyplot as plt\n",
    "import pmdarima as pm"
   ]
  },
  {
   "cell_type": "code",
   "execution_count": 2,
   "id": "bd3758b2",
   "metadata": {},
   "outputs": [],
   "source": [
    "# Load data\n",
    "data = pd.read_csv('macedonia-air-quality1.csv', dayfirst=True)\n",
    "data['date'] = pd.to_datetime(data['date'])\n",
    "data.set_index('date', inplace=True)"
   ]
  },
  {
   "cell_type": "code",
   "execution_count": 6,
   "id": "910dd423",
   "metadata": {},
   "outputs": [],
   "source": [
    "# Drop unnecessary columns\n",
    "data.drop(['pm25', 'o3', 'no2', 'so2', 'co'], axis=1, inplace=True)"
   ]
  },
  {
   "cell_type": "code",
   "execution_count": 3,
   "id": "5a3c7e67",
   "metadata": {},
   "outputs": [],
   "source": [
    "data.columns = data.columns.str.strip()"
   ]
  },
  {
   "cell_type": "code",
   "execution_count": 10,
   "id": "d4a2f2c1",
   "metadata": {},
   "outputs": [],
   "source": [
    "data.sort_index(inplace=True)"
   ]
  },
  {
   "cell_type": "code",
   "execution_count": 20,
   "id": "3ff57645",
   "metadata": {
    "collapsed": true
   },
   "outputs": [
    {
     "name": "stdout",
     "output_type": "stream",
     "text": [
      "Performing stepwise search to minimize aic\n",
      " ARIMA(1,0,1)(0,1,1)[12] intercept   : AIC=inf, Time=7.37 sec\n",
      " ARIMA(0,0,0)(0,1,0)[12] intercept   : AIC=33002.635, Time=0.15 sec\n",
      " ARIMA(1,0,0)(1,1,0)[12] intercept   : AIC=28949.741, Time=3.24 sec\n",
      " ARIMA(0,0,1)(0,1,1)[12] intercept   : AIC=inf, Time=3.45 sec\n",
      " ARIMA(0,0,0)(0,1,0)[12]             : AIC=33000.635, Time=0.13 sec\n",
      " ARIMA(1,0,0)(0,1,0)[12] intercept   : AIC=29798.191, Time=0.42 sec\n",
      " ARIMA(1,0,0)(2,1,0)[12] intercept   : AIC=28614.449, Time=17.32 sec\n",
      " ARIMA(1,0,0)(2,1,1)[12] intercept   : AIC=inf, Time=38.79 sec\n",
      " ARIMA(1,0,0)(1,1,1)[12] intercept   : AIC=inf, Time=4.71 sec\n",
      " ARIMA(0,0,0)(2,1,0)[12] intercept   : AIC=32251.614, Time=7.71 sec\n",
      " ARIMA(2,0,0)(2,1,0)[12] intercept   : AIC=28579.082, Time=34.01 sec\n",
      " ARIMA(2,0,0)(1,1,0)[12] intercept   : AIC=28905.821, Time=5.13 sec\n",
      " ARIMA(2,0,0)(2,1,1)[12] intercept   : AIC=inf, Time=49.66 sec\n",
      " ARIMA(2,0,0)(1,1,1)[12] intercept   : AIC=inf, Time=9.69 sec\n",
      " ARIMA(3,0,0)(2,1,0)[12] intercept   : AIC=28558.123, Time=33.00 sec\n",
      " ARIMA(3,0,0)(1,1,0)[12] intercept   : AIC=28889.837, Time=8.72 sec\n",
      " ARIMA(3,0,0)(2,1,1)[12] intercept   : AIC=inf, Time=42.73 sec\n",
      " ARIMA(3,0,0)(1,1,1)[12] intercept   : AIC=inf, Time=16.01 sec\n",
      " ARIMA(3,0,1)(2,1,0)[12] intercept   : AIC=28559.764, Time=35.20 sec\n",
      " ARIMA(2,0,1)(2,1,0)[12] intercept   : AIC=28567.129, Time=18.54 sec\n",
      " ARIMA(3,0,0)(2,1,0)[12]             : AIC=28556.124, Time=8.09 sec\n",
      " ARIMA(3,0,0)(1,1,0)[12]             : AIC=28887.837, Time=3.33 sec\n",
      " ARIMA(3,0,0)(2,1,1)[12]             : AIC=inf, Time=26.87 sec\n",
      " ARIMA(3,0,0)(1,1,1)[12]             : AIC=inf, Time=8.97 sec\n",
      " ARIMA(2,0,0)(2,1,0)[12]             : AIC=28577.082, Time=7.98 sec\n",
      " ARIMA(3,0,1)(2,1,0)[12]             : AIC=28557.764, Time=12.17 sec\n",
      " ARIMA(2,0,1)(2,1,0)[12]             : AIC=28565.129, Time=6.63 sec\n",
      "\n",
      "Best model:  ARIMA(3,0,0)(2,1,0)[12]          \n",
      "Total fit time: 410.284 seconds\n",
      "                                     SARIMAX Results                                      \n",
      "==========================================================================================\n",
      "Dep. Variable:                                  y   No. Observations:                 2967\n",
      "Model:             SARIMAX(3, 0, 0)x(2, 1, 0, 12)   Log Likelihood              -14272.062\n",
      "Date:                            Sat, 24 Jun 2023   AIC                          28556.124\n",
      "Time:                                    20:49:36   BIC                          28592.071\n",
      "Sample:                                04-18-2015   HQIC                         28569.064\n",
      "                                     - 06-01-2023                                         \n",
      "Covariance Type:                              opg                                         \n",
      "==============================================================================\n",
      "                 coef    std err          z      P>|z|      [0.025      0.975]\n",
      "------------------------------------------------------------------------------\n",
      "ar.L1          0.7426      0.005    140.445      0.000       0.732       0.753\n",
      "ar.L2          0.0467      0.006      7.556      0.000       0.035       0.059\n",
      "ar.L3          0.0881      0.008     10.741      0.000       0.072       0.104\n",
      "ar.S.L12      -0.6788      0.004   -169.274      0.000      -0.687      -0.671\n",
      "ar.S.L24      -0.3260      0.003   -102.387      0.000      -0.332      -0.320\n",
      "sigma2       915.3227      4.804    190.550      0.000     905.908     924.738\n",
      "===================================================================================\n",
      "Ljung-Box (L1) (Q):                   0.01   Jarque-Bera (JB):           7840587.94\n",
      "Prob(Q):                              0.94   Prob(JB):                         0.00\n",
      "Heteroskedasticity (H):               0.10   Skew:                             6.66\n",
      "Prob(H) (two-sided):                  0.00   Kurtosis:                       255.00\n",
      "===================================================================================\n",
      "\n",
      "Warnings:\n",
      "[1] Covariance matrix calculated using the outer product of gradients (complex-step).\n"
     ]
    }
   ],
   "source": [
    "data['pm10'] = pd.to_numeric(data['pm10'], errors='coerce')\n",
    "\n",
    "# Fill missing values using interpolation\n",
    "data['pm10'].interpolate(method='linear', inplace=True)\n",
    "\n",
    "# Infer frequency of the data\n",
    "frequency = pd.infer_freq(data.index)\n",
    "\n",
    "# Reindex the DataFrame to ensure that the datetime index covers the entire range without any gaps\n",
    "data = data.asfreq(frequency)\n",
    "\n",
    "# Fit auto_arima function to AirQuality dataset\n",
    "stepwise_fit = pm.auto_arima(data['pm10'], start_p=1, start_q=1,\n",
    "                             max_p=3, max_q=3, m=12,\n",
    "                             start_P=0, seasonal=True,\n",
    "                             d=None, D=1, trace=True,\n",
    "                             error_action='ignore',   # we don't want to know if an order does not work\n",
    "                             suppress_warnings=True,  # we don't want convergence warnings\n",
    "                             stepwise=True)           # set to stepwise\n",
    "\n",
    "# To print the summary\n",
    "print(stepwise_fit.summary())"
   ]
  },
  {
   "cell_type": "code",
   "execution_count": 49,
   "id": "e719b847",
   "metadata": {},
   "outputs": [
    {
     "data": {
      "image/png": "[encoded data removed]",
      "text/plain": [
       "<Figure size 1000x600 with 1 Axes>"
      ]
     },
     "metadata": {},
     "output_type": "display_data"
    },
    {
     "name": "stdout",
     "output_type": "stream",
     "text": [
      "The forecasted pm10 value for 2016-09-23 is 36.62550931509427.\n"
     ]
    }
   ],
   "source": [
    "# num_rows_before = len(data) \n",
    "# data['pm10'] = pd.to_numeric(data['pm10'], errors='coerce')\n",
    "# # Drop rows with missing pm10 data\n",
    "# data.dropna(subset=['pm10'], inplace=True)\n",
    "# num_rows_after = len(data)\n",
    "\n",
    "# # Print the bottom rows\n",
    "# bottom_rows = data.tail(5)\n",
    "# print(bottom_rows)\n",
    "\n",
    "# print(\"Number of rows before dropping:\", num_rows_before)\n",
    "# print(\"Number of rows after dropping:\", num_rows_after)\n",
    "# Infer frequency of the data\n",
    "frequency = pd.infer_freq(data.index)\n",
    "\n",
    "# Reindex the DataFrame to ensure that the datetime index covers the entire range without any gaps\n",
    "data = data.asfreq(frequency)\n",
    "\n",
    "# Use linear interpolation to fill missing values\n",
    "data['pm10'] = pd.to_numeric(data['pm10'], errors='coerce')\n",
    "\n",
    "# Specify the frequency value\n",
    "frequency = 'D'  # Replace with the appropriate frequency for your data\n",
    "\n",
    "# Reindex the DataFrame to ensure that the datetime index covers the entire range without any gaps\n",
    "data = data.asfreq(frequency)\n",
    "\n",
    "# Use linear interpolation to fill missing values\n",
    "data['pm10'] = data['pm10'].interpolate(method='linear')\n",
    "\n",
    "# Fit the model to the entire dataset\n",
    "model_arima_pm10 = SARIMAX(data['pm10'], order=(3, 0, 0), seasonal_order=(2, 1, 0, 12))\n",
    "model_fit_arima_pm10 = model_arima_pm10.fit(disp=False)\n",
    "\n",
    "# Create a new DatetimeIndex that extends until '2024-06-30'\n",
    "new_index = pd.date_range(start=data.index.min(), end='2025-01-01', freq=frequency)\n",
    "\n",
    "# Forecast future values\n",
    "forecast_arima_pm10 = model_fit_arima_pm10.predict(start=new_index[0], end=new_index[-1])\n",
    "\n",
    "# Convert the results to a series\n",
    "forecast_series = pd.Series(forecast_arima_pm10, index=new_index)\n",
    "\n",
    "# Find the largest forecasted value and change it\n",
    "forecast_series[forecast_series.idxmax()] = 100\n",
    "\n",
    "\n",
    "# Plot the initial data and forecasted data\n",
    "plt.figure(figsize=(10, 6))\n",
    "plt.plot(data.index, data['pm10'], label='Initial data')\n",
    "plt.plot(forecast_series.index, forecast_series, color='red', label='Forecasted data')\n",
    "plt.xlabel('Date')\n",
    "plt.ylabel('pm10')\n",
    "plt.title('pm10 Over Time')\n",
    "plt.legend()\n",
    "plt.grid(True)\n",
    "plt.show()\n",
    "\n",
    "# Check the forecasted value for a specific date\n",
    "forecast_date = pd.to_datetime('2016-09-23')\n",
    "if forecast_date in forecast_series.index:\n",
    "    forecast_value = forecast_series[forecast_date]\n",
    "    print(f\"The forecasted pm10 value for {forecast_date.date()} is {forecast_value}.\")\n",
    "else:\n",
    "    print(f\"No forecast available for {forecast_date.date()}.\")"
   ]
  },
  {
   "cell_type": "code",
   "execution_count": 12,
   "id": "e12f8384",
   "metadata": {},
   "outputs": [],
   "source": [
    "max_val = data['pm10'].max()\n",
    "\n",
    "# Replace the maximum value with a new value\n",
    "# Here, I'll replace it with the mean of the series. You can choose a different replacement value if you prefer.\n",
    "data.loc[data['pm10'] == max_val, 'pm10'] = data['pm10'].mean()"
   ]
  },
  {
   "cell_type": "code",
   "execution_count": 13,
   "id": "b715dea9",
   "metadata": {},
   "outputs": [],
   "source": [
    "# Split data into train and test set\n",
    "# Suppose df is your DataFrame\n",
    "train_size = int(len(data) * 0.8)\n",
    "train, test = data.iloc[:train_size], data.iloc[train_size:]"
   ]
  },
  {
   "cell_type": "code",
   "execution_count": 14,
   "id": "fbcf5d4f",
   "metadata": {},
   "outputs": [],
   "source": [
    "idx = pd.date_range(start=train.index.min(), end=train.index.max())\n",
    "train = train.reindex(idx, fill_value=np.nan)"
   ]
  },
  {
   "cell_type": "code",
   "execution_count": 20,
   "id": "1c9d75a8",
   "metadata": {
    "collapsed": true
   },
   "outputs": [
    {
     "name": "stderr",
     "output_type": "stream",
     "text": [
      "C:\\ProgramData\\Anaconda3\\lib\\site-packages\\statsmodels\\tsa\\base\\tsa_model.py:471: ValueWarning: A date index has been provided, but it has no associated frequency information and so will be ignored when e.g. forecasting.\n",
      "  self._init_dates(dates, freq)\n",
      "C:\\ProgramData\\Anaconda3\\lib\\site-packages\\statsmodels\\tsa\\base\\tsa_model.py:471: ValueWarning: A date index has been provided, but it has no associated frequency information and so will be ignored when e.g. forecasting.\n",
      "  self._init_dates(dates, freq)\n"
     ]
    },
    {
     "ename": "KeyError",
     "evalue": "'The `end` argument could not be matched to a location related to the index of the data.'",
     "output_type": "error",
     "traceback": [
      "\u001b[1;31m---------------------------------------------------------------------------\u001b[0m",
      "\u001b[1;31mKeyError\u001b[0m                                  Traceback (most recent call last)",
      "\u001b[1;32mC:\\ProgramData\\Anaconda3\\lib\\site-packages\\pandas\\_libs\\index.pyx\u001b[0m in \u001b[0;36mpandas._libs.index.DatetimeEngine.get_loc\u001b[1;34m()\u001b[0m\n",
      "\u001b[1;32mpandas\\_libs\\hashtable_class_helper.pxi\u001b[0m in \u001b[0;36mpandas._libs.hashtable.Int64HashTable.get_item\u001b[1;34m()\u001b[0m\n",
      "\u001b[1;32mpandas\\_libs\\hashtable_class_helper.pxi\u001b[0m in \u001b[0;36mpandas._libs.hashtable.Int64HashTable.get_item\u001b[1;34m()\u001b[0m\n",
      "\u001b[1;31mKeyError\u001b[0m: 1719705600000000000",
      "\nDuring handling of the above exception, another exception occurred:\n",
      "\u001b[1;31mKeyError\u001b[0m                                  Traceback (most recent call last)",
      "\u001b[1;32mC:\\ProgramData\\Anaconda3\\lib\\site-packages\\pandas\\core\\indexes\\base.py\u001b[0m in \u001b[0;36mget_loc\u001b[1;34m(self, key, method, tolerance)\u001b[0m\n\u001b[0;32m   3628\u001b[0m             \u001b[1;32mtry\u001b[0m\u001b[1;33m:\u001b[0m\u001b[1;33m\u001b[0m\u001b[1;33m\u001b[0m\u001b[0m\n\u001b[1;32m-> 3629\u001b[1;33m                 \u001b[1;32mreturn\u001b[0m \u001b[0mself\u001b[0m\u001b[1;33m.\u001b[0m\u001b[0m_engine\u001b[0m\u001b[1;33m.\u001b[0m\u001b[0mget_loc\u001b[0m\u001b[1;33m(\u001b[0m\u001b[0mcasted_key\u001b[0m\u001b[1;33m)\u001b[0m\u001b[1;33m\u001b[0m\u001b[1;33m\u001b[0m\u001b[0m\n\u001b[0m\u001b[0;32m   3630\u001b[0m             \u001b[1;32mexcept\u001b[0m \u001b[0mKeyError\u001b[0m \u001b[1;32mas\u001b[0m \u001b[0merr\u001b[0m\u001b[1;33m:\u001b[0m\u001b[1;33m\u001b[0m\u001b[1;33m\u001b[0m\u001b[0m\n",
      "\u001b[1;32mC:\\ProgramData\\Anaconda3\\lib\\site-packages\\pandas\\_libs\\index.pyx\u001b[0m in \u001b[0;36mpandas._libs.index.DatetimeEngine.get_loc\u001b[1;34m()\u001b[0m\n",
      "\u001b[1;32mC:\\ProgramData\\Anaconda3\\lib\\site-packages\\pandas\\_libs\\index.pyx\u001b[0m in \u001b[0;36mpandas._libs.index.DatetimeEngine.get_loc\u001b[1;34m()\u001b[0m\n",
      "\u001b[1;31mKeyError\u001b[0m: Timestamp('2024-06-30 00:00:00')",
      "\nThe above exception was the direct cause of the following exception:\n",
      "\u001b[1;31mKeyError\u001b[0m                                  Traceback (most recent call last)",
      "\u001b[1;32mC:\\ProgramData\\Anaconda3\\lib\\site-packages\\pandas\\core\\indexes\\datetimes.py\u001b[0m in \u001b[0;36mget_loc\u001b[1;34m(self, key, method, tolerance)\u001b[0m\n\u001b[0;32m    695\u001b[0m         \u001b[1;32mtry\u001b[0m\u001b[1;33m:\u001b[0m\u001b[1;33m\u001b[0m\u001b[1;33m\u001b[0m\u001b[0m\n\u001b[1;32m--> 696\u001b[1;33m             \u001b[1;32mreturn\u001b[0m \u001b[0mIndex\u001b[0m\u001b[1;33m.\u001b[0m\u001b[0mget_loc\u001b[0m\u001b[1;33m(\u001b[0m\u001b[0mself\u001b[0m\u001b[1;33m,\u001b[0m \u001b[0mkey\u001b[0m\u001b[1;33m,\u001b[0m \u001b[0mmethod\u001b[0m\u001b[1;33m,\u001b[0m \u001b[0mtolerance\u001b[0m\u001b[1;33m)\u001b[0m\u001b[1;33m\u001b[0m\u001b[1;33m\u001b[0m\u001b[0m\n\u001b[0m\u001b[0;32m    697\u001b[0m         \u001b[1;32mexcept\u001b[0m \u001b[0mKeyError\u001b[0m \u001b[1;32mas\u001b[0m \u001b[0merr\u001b[0m\u001b[1;33m:\u001b[0m\u001b[1;33m\u001b[0m\u001b[1;33m\u001b[0m\u001b[0m\n",
      "\u001b[1;32mC:\\ProgramData\\Anaconda3\\lib\\site-packages\\pandas\\core\\indexes\\base.py\u001b[0m in \u001b[0;36mget_loc\u001b[1;34m(self, key, method, tolerance)\u001b[0m\n\u001b[0;32m   3630\u001b[0m             \u001b[1;32mexcept\u001b[0m \u001b[0mKeyError\u001b[0m \u001b[1;32mas\u001b[0m \u001b[0merr\u001b[0m\u001b[1;33m:\u001b[0m\u001b[1;33m\u001b[0m\u001b[1;33m\u001b[0m\u001b[0m\n\u001b[1;32m-> 3631\u001b[1;33m                 \u001b[1;32mraise\u001b[0m \u001b[0mKeyError\u001b[0m\u001b[1;33m(\u001b[0m\u001b[0mkey\u001b[0m\u001b[1;33m)\u001b[0m \u001b[1;32mfrom\u001b[0m \u001b[0merr\u001b[0m\u001b[1;33m\u001b[0m\u001b[1;33m\u001b[0m\u001b[0m\n\u001b[0m\u001b[0;32m   3632\u001b[0m             \u001b[1;32mexcept\u001b[0m \u001b[0mTypeError\u001b[0m\u001b[1;33m:\u001b[0m\u001b[1;33m\u001b[0m\u001b[1;33m\u001b[0m\u001b[0m\n",
      "\u001b[1;31mKeyError\u001b[0m: Timestamp('2024-06-30 00:00:00')",
      "\nThe above exception was the direct cause of the following exception:\n",
      "\u001b[1;31mKeyError\u001b[0m                                  Traceback (most recent call last)",
      "\u001b[1;32mC:\\ProgramData\\Anaconda3\\lib\\site-packages\\statsmodels\\tsa\\base\\tsa_model.py\u001b[0m in \u001b[0;36mget_index_label_loc\u001b[1;34m(key, index, row_labels)\u001b[0m\n\u001b[0;32m    246\u001b[0m             \u001b[1;32mif\u001b[0m \u001b[1;32mnot\u001b[0m \u001b[0misinstance\u001b[0m\u001b[1;33m(\u001b[0m\u001b[0mkey\u001b[0m\u001b[1;33m,\u001b[0m \u001b[1;33m(\u001b[0m\u001b[0mint\u001b[0m\u001b[1;33m,\u001b[0m \u001b[0mnp\u001b[0m\u001b[1;33m.\u001b[0m\u001b[0minteger\u001b[0m\u001b[1;33m)\u001b[0m\u001b[1;33m)\u001b[0m\u001b[1;33m:\u001b[0m\u001b[1;33m\u001b[0m\u001b[1;33m\u001b[0m\u001b[0m\n\u001b[1;32m--> 247\u001b[1;33m                 \u001b[0mloc\u001b[0m \u001b[1;33m=\u001b[0m \u001b[0mrow_labels\u001b[0m\u001b[1;33m.\u001b[0m\u001b[0mget_loc\u001b[0m\u001b[1;33m(\u001b[0m\u001b[0mkey\u001b[0m\u001b[1;33m)\u001b[0m\u001b[1;33m\u001b[0m\u001b[1;33m\u001b[0m\u001b[0m\n\u001b[0m\u001b[0;32m    248\u001b[0m             \u001b[1;32melse\u001b[0m\u001b[1;33m:\u001b[0m\u001b[1;33m\u001b[0m\u001b[1;33m\u001b[0m\u001b[0m\n",
      "\u001b[1;32mC:\\ProgramData\\Anaconda3\\lib\\site-packages\\pandas\\core\\indexes\\datetimes.py\u001b[0m in \u001b[0;36mget_loc\u001b[1;34m(self, key, method, tolerance)\u001b[0m\n\u001b[0;32m    697\u001b[0m         \u001b[1;32mexcept\u001b[0m \u001b[0mKeyError\u001b[0m \u001b[1;32mas\u001b[0m \u001b[0merr\u001b[0m\u001b[1;33m:\u001b[0m\u001b[1;33m\u001b[0m\u001b[1;33m\u001b[0m\u001b[0m\n\u001b[1;32m--> 698\u001b[1;33m             \u001b[1;32mraise\u001b[0m \u001b[0mKeyError\u001b[0m\u001b[1;33m(\u001b[0m\u001b[0morig_key\u001b[0m\u001b[1;33m)\u001b[0m \u001b[1;32mfrom\u001b[0m \u001b[0merr\u001b[0m\u001b[1;33m\u001b[0m\u001b[1;33m\u001b[0m\u001b[0m\n\u001b[0m\u001b[0;32m    699\u001b[0m \u001b[1;33m\u001b[0m\u001b[0m\n",
      "\u001b[1;31mKeyError\u001b[0m: Timestamp('2024-06-30 00:00:00')",
      "\nDuring handling of the above exception, another exception occurred:\n",
      "\u001b[1;31mKeyError\u001b[0m                                  Traceback (most recent call last)",
      "\u001b[1;32mC:\\ProgramData\\Anaconda3\\lib\\site-packages\\statsmodels\\tsa\\base\\tsa_model.py\u001b[0m in \u001b[0;36mget_prediction_index\u001b[1;34m(start, end, nobs, base_index, index, silent, index_none, index_generated, data)\u001b[0m\n\u001b[0;32m    366\u001b[0m     \u001b[1;32mtry\u001b[0m\u001b[1;33m:\u001b[0m\u001b[1;33m\u001b[0m\u001b[1;33m\u001b[0m\u001b[0m\n\u001b[1;32m--> 367\u001b[1;33m         end, end_index, end_oos = get_index_label_loc(\n\u001b[0m\u001b[0;32m    368\u001b[0m             \u001b[0mend\u001b[0m\u001b[1;33m,\u001b[0m \u001b[0mbase_index\u001b[0m\u001b[1;33m,\u001b[0m \u001b[0mdata\u001b[0m\u001b[1;33m.\u001b[0m\u001b[0mrow_labels\u001b[0m\u001b[1;33m\u001b[0m\u001b[1;33m\u001b[0m\u001b[0m\n",
      "\u001b[1;32mC:\\ProgramData\\Anaconda3\\lib\\site-packages\\statsmodels\\tsa\\base\\tsa_model.py\u001b[0m in \u001b[0;36mget_index_label_loc\u001b[1;34m(key, index, row_labels)\u001b[0m\n\u001b[0;32m    278\u001b[0m         \u001b[1;32mexcept\u001b[0m\u001b[1;33m:\u001b[0m\u001b[1;33m\u001b[0m\u001b[1;33m\u001b[0m\u001b[0m\n\u001b[1;32m--> 279\u001b[1;33m             \u001b[1;32mraise\u001b[0m \u001b[0me\u001b[0m\u001b[1;33m\u001b[0m\u001b[1;33m\u001b[0m\u001b[0m\n\u001b[0m\u001b[0;32m    280\u001b[0m     \u001b[1;32mreturn\u001b[0m \u001b[0mloc\u001b[0m\u001b[1;33m,\u001b[0m \u001b[0mindex\u001b[0m\u001b[1;33m,\u001b[0m \u001b[0mindex_was_expanded\u001b[0m\u001b[1;33m\u001b[0m\u001b[1;33m\u001b[0m\u001b[0m\n",
      "\u001b[1;32mC:\\ProgramData\\Anaconda3\\lib\\site-packages\\statsmodels\\tsa\\base\\tsa_model.py\u001b[0m in \u001b[0;36mget_index_label_loc\u001b[1;34m(key, index, row_labels)\u001b[0m\n\u001b[0;32m    242\u001b[0m     \u001b[1;32mtry\u001b[0m\u001b[1;33m:\u001b[0m\u001b[1;33m\u001b[0m\u001b[1;33m\u001b[0m\u001b[0m\n\u001b[1;32m--> 243\u001b[1;33m         \u001b[0mloc\u001b[0m\u001b[1;33m,\u001b[0m \u001b[0mindex\u001b[0m\u001b[1;33m,\u001b[0m \u001b[0mindex_was_expanded\u001b[0m \u001b[1;33m=\u001b[0m \u001b[0mget_index_loc\u001b[0m\u001b[1;33m(\u001b[0m\u001b[0mkey\u001b[0m\u001b[1;33m,\u001b[0m \u001b[0mindex\u001b[0m\u001b[1;33m)\u001b[0m\u001b[1;33m\u001b[0m\u001b[1;33m\u001b[0m\u001b[0m\n\u001b[0m\u001b[0;32m    244\u001b[0m     \u001b[1;32mexcept\u001b[0m \u001b[0mKeyError\u001b[0m \u001b[1;32mas\u001b[0m \u001b[0me\u001b[0m\u001b[1;33m:\u001b[0m\u001b[1;33m\u001b[0m\u001b[1;33m\u001b[0m\u001b[0m\n",
      "\u001b[1;32mC:\\ProgramData\\Anaconda3\\lib\\site-packages\\statsmodels\\tsa\\base\\tsa_model.py\u001b[0m in \u001b[0;36mget_index_loc\u001b[1;34m(key, index)\u001b[0m\n\u001b[0;32m    192\u001b[0m         \u001b[1;32mexcept\u001b[0m \u001b[1;33m(\u001b[0m\u001b[0mIndexError\u001b[0m\u001b[1;33m,\u001b[0m \u001b[0mValueError\u001b[0m\u001b[1;33m)\u001b[0m \u001b[1;32mas\u001b[0m \u001b[0me\u001b[0m\u001b[1;33m:\u001b[0m\u001b[1;33m\u001b[0m\u001b[1;33m\u001b[0m\u001b[0m\n\u001b[1;32m--> 193\u001b[1;33m             \u001b[1;32mraise\u001b[0m \u001b[0mKeyError\u001b[0m\u001b[1;33m(\u001b[0m\u001b[0mstr\u001b[0m\u001b[1;33m(\u001b[0m\u001b[0me\u001b[0m\u001b[1;33m)\u001b[0m\u001b[1;33m)\u001b[0m\u001b[1;33m\u001b[0m\u001b[1;33m\u001b[0m\u001b[0m\n\u001b[0m\u001b[0;32m    194\u001b[0m         \u001b[0mloc\u001b[0m \u001b[1;33m=\u001b[0m \u001b[0mkey\u001b[0m\u001b[1;33m\u001b[0m\u001b[1;33m\u001b[0m\u001b[0m\n",
      "\u001b[1;31mKeyError\u001b[0m: 'only integers, slices (`:`), ellipsis (`...`), numpy.newaxis (`None`) and integer or boolean arrays are valid indices'",
      "\nDuring handling of the above exception, another exception occurred:\n",
      "\u001b[1;31mKeyError\u001b[0m                                  Traceback (most recent call last)",
      "\u001b[1;32m~\\AppData\\Local\\Temp\\ipykernel_5228\\3080426680.py\u001b[0m in \u001b[0;36m<module>\u001b[1;34m\u001b[0m\n\u001b[0;32m     12\u001b[0m \u001b[0mstart_date\u001b[0m \u001b[1;33m=\u001b[0m \u001b[0mdata\u001b[0m\u001b[1;33m.\u001b[0m\u001b[0mindex\u001b[0m\u001b[1;33m[\u001b[0m\u001b[1;33m-\u001b[0m\u001b[1;36m1\u001b[0m\u001b[1;33m]\u001b[0m  \u001b[1;31m# the last date in the data\u001b[0m\u001b[1;33m\u001b[0m\u001b[1;33m\u001b[0m\u001b[0m\n\u001b[0;32m     13\u001b[0m \u001b[0mend_date\u001b[0m \u001b[1;33m=\u001b[0m \u001b[0mpd\u001b[0m\u001b[1;33m.\u001b[0m\u001b[0mto_datetime\u001b[0m\u001b[1;33m(\u001b[0m\u001b[1;34m'2024-06-30'\u001b[0m\u001b[1;33m)\u001b[0m  \u001b[1;31m# the end date of the forecast\u001b[0m\u001b[1;33m\u001b[0m\u001b[1;33m\u001b[0m\u001b[0m\n\u001b[1;32m---> 14\u001b[1;33m \u001b[0mforecast_arima_pm10\u001b[0m \u001b[1;33m=\u001b[0m \u001b[0mmodel_fit_arima_pm10\u001b[0m\u001b[1;33m.\u001b[0m\u001b[0mget_prediction\u001b[0m\u001b[1;33m(\u001b[0m\u001b[0mstart\u001b[0m\u001b[1;33m=\u001b[0m\u001b[0mstart_date\u001b[0m\u001b[1;33m,\u001b[0m \u001b[0mend\u001b[0m\u001b[1;33m=\u001b[0m\u001b[0mend_date\u001b[0m\u001b[1;33m,\u001b[0m \u001b[0mdynamic\u001b[0m\u001b[1;33m=\u001b[0m\u001b[1;32mFalse\u001b[0m\u001b[1;33m)\u001b[0m\u001b[1;33m\u001b[0m\u001b[1;33m\u001b[0m\u001b[0m\n\u001b[0m\u001b[0;32m     15\u001b[0m \u001b[1;33m\u001b[0m\u001b[0m\n\u001b[0;32m     16\u001b[0m \u001b[1;33m\u001b[0m\u001b[0m\n",
      "\u001b[1;32mC:\\ProgramData\\Anaconda3\\lib\\site-packages\\statsmodels\\tsa\\statespace\\mlemodel.py\u001b[0m in \u001b[0;36mget_prediction\u001b[1;34m(self, start, end, dynamic, index, exog, extend_model, extend_kwargs, **kwargs)\u001b[0m\n\u001b[0;32m   3285\u001b[0m         \u001b[1;31m# Handle start, end, dynamic\u001b[0m\u001b[1;33m\u001b[0m\u001b[1;33m\u001b[0m\u001b[0m\n\u001b[0;32m   3286\u001b[0m         start, end, out_of_sample, prediction_index = (\n\u001b[1;32m-> 3287\u001b[1;33m             self.model._get_prediction_index(start, end, index))\n\u001b[0m\u001b[0;32m   3288\u001b[0m \u001b[1;33m\u001b[0m\u001b[0m\n\u001b[0;32m   3289\u001b[0m         \u001b[1;31m# Handle `dynamic`\u001b[0m\u001b[1;33m\u001b[0m\u001b[1;33m\u001b[0m\u001b[0m\n",
      "\u001b[1;32mC:\\ProgramData\\Anaconda3\\lib\\site-packages\\statsmodels\\tsa\\base\\tsa_model.py\u001b[0m in \u001b[0;36m_get_prediction_index\u001b[1;34m(self, start, end, index, silent)\u001b[0m\n\u001b[0;32m    832\u001b[0m         \"\"\"\n\u001b[0;32m    833\u001b[0m         \u001b[0mnobs\u001b[0m \u001b[1;33m=\u001b[0m \u001b[0mlen\u001b[0m\u001b[1;33m(\u001b[0m\u001b[0mself\u001b[0m\u001b[1;33m.\u001b[0m\u001b[0mendog\u001b[0m\u001b[1;33m)\u001b[0m\u001b[1;33m\u001b[0m\u001b[1;33m\u001b[0m\u001b[0m\n\u001b[1;32m--> 834\u001b[1;33m         return get_prediction_index(\n\u001b[0m\u001b[0;32m    835\u001b[0m             \u001b[0mstart\u001b[0m\u001b[1;33m,\u001b[0m\u001b[1;33m\u001b[0m\u001b[1;33m\u001b[0m\u001b[0m\n\u001b[0;32m    836\u001b[0m             \u001b[0mend\u001b[0m\u001b[1;33m,\u001b[0m\u001b[1;33m\u001b[0m\u001b[1;33m\u001b[0m\u001b[0m\n",
      "\u001b[1;32mC:\\ProgramData\\Anaconda3\\lib\\site-packages\\statsmodels\\tsa\\base\\tsa_model.py\u001b[0m in \u001b[0;36mget_prediction_index\u001b[1;34m(start, end, nobs, base_index, index, silent, index_none, index_generated, data)\u001b[0m\n\u001b[0;32m    369\u001b[0m         )\n\u001b[0;32m    370\u001b[0m     \u001b[1;32mexcept\u001b[0m \u001b[0mKeyError\u001b[0m\u001b[1;33m:\u001b[0m\u001b[1;33m\u001b[0m\u001b[1;33m\u001b[0m\u001b[0m\n\u001b[1;32m--> 371\u001b[1;33m         raise KeyError(\n\u001b[0m\u001b[0;32m    372\u001b[0m             \u001b[1;34m\"The `end` argument could not be matched to a\"\u001b[0m\u001b[1;33m\u001b[0m\u001b[1;33m\u001b[0m\u001b[0m\n\u001b[0;32m    373\u001b[0m             \u001b[1;34m\" location related to the index of the data.\"\u001b[0m\u001b[1;33m\u001b[0m\u001b[1;33m\u001b[0m\u001b[0m\n",
      "\u001b[1;31mKeyError\u001b[0m: 'The `end` argument could not be matched to a location related to the index of the data.'"
     ]
    }
   ],
   "source": [
    "# Instantiate the model\n",
    "model_arima_pm10 = SARIMAX(data['pm10'], order=(1, 1, 1), seasonal_order=(1, 1, 1, 12))\n",
    "# Fit\n",
    "model_fit_arima_pm10 = model_arima_pm10.fit(disp=False)\n",
    "\n",
    "# # Generate predictions\n",
    "# start_date = pd.to_datetime(test.index[0]) if pd.to_datetime(test.index[0]) in train.index else train.index[-1]\n",
    "# end_date = pd.to_datetime(test.index[-1])\n",
    "# forecast_arima_pm10 = model_fit_arima_pm10.predict(start=start_date, end=end_date)\n",
    "\n",
    "# Forecast future values\n",
    "start_date = data.index[-1]  # the last date in the data\n",
    "end_date = pd.to_datetime('2024-06-30')  # the end date of the forecast\n",
    "forecast_arima_pm10 = model_fit_arima_pm10.get_prediction(start=start_date, end=end_date, dynamic=False)\n",
    "\n",
    "\n",
    "# Convert the results to a series\n",
    "forecast_series = forecast_arima_pm10.predicted_mean\n",
    "\n",
    "# Plot the initial data and forecasted data\n",
    "plt.figure(figsize=(10, 6))\n",
    "plt.plot(data.index, data['pm10'], label='Initial data')\n",
    "plt.plot(forecast_series.index, forecast_series, color='red', label='Forecasted data')\n",
    "plt.xlabel('Date')\n",
    "plt.ylabel('pm10')\n",
    "plt.title('pm10 Over Time')\n",
    "plt.legend()\n",
    "plt.grid(True)\n",
    "plt.show()"
   ]
  },
  {
   "cell_type": "code",
   "execution_count": 42,
   "id": "4bb626fe",
   "metadata": {},
   "outputs": [
    {
     "name": "stdout",
     "output_type": "stream",
     "text": [
      "The forecasted pm10 value for 2024-04-05 is 25.54305422424702.\n"
     ]
    }
   ],
   "source": [
    "# Check the forecasted value for a specific date\n",
    "forecast_date = pd.to_datetime('2024-04-05')\n",
    "if forecast_date in forecast_series.index:\n",
    "    forecast_value = forecast_series[forecast_date]\n",
    "    print(f\"The forecasted pm10 value for {forecast_date.date()} is {forecast_value}.\")\n",
    "else:\n",
    "    print(f\"No forecast available for {forecast_date.date()}.\")"
   ]
  },
  {
   "cell_type": "code",
   "execution_count": 41,
   "id": "20acd366",
   "metadata": {},
   "outputs": [
    {
     "ename": "NameError",
     "evalue": "name 'train' is not defined",
     "output_type": "error",
     "traceback": [
      "\u001b[1;31m---------------------------------------------------------------------------\u001b[0m",
      "\u001b[1;31mNameError\u001b[0m                                 Traceback (most recent call last)",
      "\u001b[1;32m~\\AppData\\Local\\Temp\\ipykernel_6672\\3561444593.py\u001b[0m in \u001b[0;36m<module>\u001b[1;34m\u001b[0m\n\u001b[1;32m----> 1\u001b[1;33m \u001b[0mtrain_filled\u001b[0m \u001b[1;33m=\u001b[0m \u001b[0mtrain\u001b[0m\u001b[1;33m.\u001b[0m\u001b[0mfillna\u001b[0m\u001b[1;33m(\u001b[0m\u001b[0mmethod\u001b[0m\u001b[1;33m=\u001b[0m\u001b[1;34m'ffill'\u001b[0m\u001b[1;33m)\u001b[0m\u001b[1;33m\u001b[0m\u001b[1;33m\u001b[0m\u001b[0m\n\u001b[0m\u001b[0;32m      2\u001b[0m \u001b[1;33m\u001b[0m\u001b[0m\n\u001b[0;32m      3\u001b[0m \u001b[1;31m# Add a column for the day of year\u001b[0m\u001b[1;33m\u001b[0m\u001b[1;33m\u001b[0m\u001b[0m\n\u001b[0;32m      4\u001b[0m \u001b[0mtrain_filled\u001b[0m\u001b[1;33m[\u001b[0m\u001b[1;34m'day_of_year'\u001b[0m\u001b[1;33m]\u001b[0m \u001b[1;33m=\u001b[0m \u001b[0mtrain_filled\u001b[0m\u001b[1;33m.\u001b[0m\u001b[0mindex\u001b[0m\u001b[1;33m.\u001b[0m\u001b[0mdayofyear\u001b[0m\u001b[1;33m\u001b[0m\u001b[1;33m\u001b[0m\u001b[0m\n\u001b[0;32m      5\u001b[0m \u001b[1;33m\u001b[0m\u001b[0m\n",
      "\u001b[1;31mNameError\u001b[0m: name 'train' is not defined"
     ]
    }
   ],
   "source": [
    "train_filled = train.fillna(method='ffill')\n",
    "\n",
    "# Add a column for the day of year\n",
    "train_filled['day_of_year'] = train_filled.index.dayofyear\n",
    "\n",
    "# Separate features and target\n",
    "X_train = train_filled.drop('pm10', axis=1)\n",
    "y_train = train_filled['pm10']"
   ]
  },
  {
   "cell_type": "code",
   "execution_count": 17,
   "id": "8f470106",
   "metadata": {},
   "outputs": [],
   "source": [
    "import xgboost as xgb\n",
    "\n",
    "dtrain = xgb.DMatrix(X_train, label=y_train)\n",
    "\n",
    "# Set up parameters\n",
    "params = {'max_depth': 10, 'eta': 0.1, 'objective': 'reg:squarederror'}\n",
    "\n",
    "# Train the model\n",
    "model_xgb_pm10 = xgb.train(params, dtrain, num_boost_round=1000)\n",
    "\n",
    "# Create test features\n",
    "X_test = pd.DataFrame(index=test.index)\n",
    "X_test['day_of_year'] = X_test.index.dayofyear\n",
    "\n",
    "# Predict\n",
    "dtest = xgb.DMatrix(X_test)\n",
    "forecast_xgb_pm10 = model_xgb_pm10.predict(dtest)"
   ]
  },
  {
   "cell_type": "code",
   "execution_count": 18,
   "id": "47603904",
   "metadata": {
    "collapsed": true
   },
   "outputs": [
    {
     "name": "stdout",
     "output_type": "stream",
     "text": [
      "2021-10-20     7.739433e+00\n",
      "2021-10-21    -1.466970e+01\n",
      "2021-10-22    -9.696933e+00\n",
      "2021-10-23    -2.409710e+01\n",
      "2021-10-24     8.618078e+00\n",
      "                  ...      \n",
      "2023-05-28    1.652032e-147\n",
      "2023-05-29    9.156949e-148\n",
      "2023-05-30    4.920121e-148\n",
      "2023-05-31    2.033572e-148\n",
      "2023-06-01    2.308153e-148\n",
      "Freq: D, Name: predicted_mean, Length: 590, dtype: float64\n"
     ]
    }
   ],
   "source": [
    "print(forecast_arima_pm10)"
   ]
  },
  {
   "cell_type": "code",
   "execution_count": 19,
   "id": "d2135999",
   "metadata": {
    "collapsed": true
   },
   "outputs": [
    {
     "name": "stdout",
     "output_type": "stream",
     "text": [
      "[ 38.833576  36.167187  33.167923  40.00004   55.499653  56.83215\n",
      "  50.833107  44.667553  44.832523  40.66814   44.83357   46.999744\n",
      "  63.499146  56.333977  57.499065  56.16791   60.16689   62.831593\n",
      "  60.833305  56.835266  58.83368   61.999763  66.33109   63.00013\n",
      "  41.335155  52.33389   53.999977  62.497814  60.665894  59.002502\n",
      "  60.165154  49.334705  58.333214  66.49893   66.166435  55.666702\n",
      "  41.167564  44.66685   60.49896   58.501225  59.49967   71.16572\n",
      "  68.66802   80.998245  48.33509   66.500595  88.83302   90.33183\n",
      "  75.83357   49.16794   60.333656  86.83322  108.666405 113.33231\n",
      "  80.83316   61.50006   57.333527  46.16751   58.500168  79.83297\n",
      "  80.33372  100.33248   80.00085   85.4992    82.500145  78.83382\n",
      "  93.33258   88.66651   78.83343   45.666836  45.167343  63.666336\n",
      "  80.99958   64.66656   60.000755  80.83321   93.832596  45.000538\n",
      "  68.000206  69.16682   80.33346   86.000015  87.33301  100.16549\n",
      "  61.999996  40.834217  48.833496  75.83256   53.667534  67.83362\n",
      "  76.49975   87.66571   67.333084  62.50107   64.498985  60.667942\n",
      "  66.000206  76.666695 102.83303  135.66483  108.66686   91.16626\n",
      "  86.501656  91.99808   88.83554   98.832756 112.83157   56.001266\n",
      "  64.66714   66.3337    76.664665  76.50051   64.33322   30.834738\n",
      "  38.16692   40.498672  40.168415  56.833138  69.66516   69.333466\n",
      "  48.000202  43.66757   44.333416  56.332134  53.16701   46.665966\n",
      "  42.66784   42.99855   42.16721   36.501587  46.99999   48.832916\n",
      "  52.831024  45.499977  40.16702   35.50041   34.501194  40.830994\n",
      "  34.999912  32.33385   27.335798  35.999615  36.665016  31.999855\n",
      "  26.335823  31.167164  33.16675   36.997757  35.500393  35.16781\n",
      "  38.16516   36.50018   32.833797  29.834368  40.165302  35.666157\n",
      "  32.83507   35.666946  35.666946  38.16596   39.33024   36.999886\n",
      "  34.33576   36.49737   32.502426  32.99829   29.499918  22.502361\n",
      "  27.664516  25.669458  28.333517  32.497925  26.501623  32.99976\n",
      "  33.998978  33.83308   24.167654  25.500235  27.165081  26.71455\n",
      "  25.144455  26.71447   27.143028  28.285667  29.57115   33.56905\n",
      "  32.857136  32.287083  33.99793   31.857244  28.570992  24.145487\n",
      "  31.426048  29.714233  27.4288    26.285751  25.144815  26.855356\n",
      "  25.572987  27.1414    25.14406   25.714745  27.856878  30.28475\n",
      "  26.142897  25.71522   26.28592   27.714455  27.999916  29.71374\n",
      "  29.71374   27.572372  27.85576   26.429358  23.713242  22.571737\n",
      "  22.001438  23.569336  22.428833  21.145016  23.285824  29.854446\n",
      "  27.999907  26.571327  22.431202  25.143719  26.425959  25.14564\n",
      "  26.713638  26.713638  26.144575  28.282236  26.42952   25.716473\n",
      "  30.712137  29.999273  26.286457  26.286457  24.71375   22.714859\n",
      "  22.144268  32.430054  35.571705  38.56823   33.99982   28.288488\n",
      "  30.710995  28.573475  28.283043  21.718493  22.5719    30.567196\n",
      "  25.71437   21.575062  22.000393  26.139568  23.432068  25.571274\n",
      "  31.426126  27.001259  27.42906   33.14087   29.285322  26.430952\n",
      "  29.429039  35.42493   29.14281   28.289108  30.571821  30.714146\n",
      "  34.139366  33.85865   34.28295   32.8599    35.42548   29.42872\n",
      "  28.43097   29.000051  31.56933   25.430622  29.286499  33.426186\n",
      "  31.57151   30.572676  30.572676  31.428911  33.14252   35.28393\n",
      "  34.000294  27.858377  28.143345  32.57122   34.2843    29.85749\n",
      "  29.999006  25.859182  29.569452  28.99938   25.574705  32.140335\n",
      "  30.287615  34.85355   31.715038  29.143017  27.430845  27.714838\n",
      "  31.428305  38.855053  36.42783   35.00001   33.99947   30.000317\n",
      "  29.573473  30.712875  27.285442  25.573282  29.712633  26.144571\n",
      "  37.712994  33.572327  34.714622  35.570553  35.4295    36.85742\n",
      "  41.571068  44.28421   38.42863   33.28592   23.286558  55.142708\n",
      "  80.42722   38.745747  31.032011  30.460617  29.318974  32.316986\n",
      "  31.889122  31.747036  33.60351   37.460377  40.8866    38.031704\n",
      "  37.60327   35.889038  28.746616  25.034     30.603582  36.744724\n",
      "  33.176502  38.888325  41.60149   30.8904    31.572075  39.57182\n",
      "  40.57125   47.569344  40.571312  39.571598  38.833576  36.167187\n",
      "  33.167923  40.00004   55.499653  56.83215   50.833107  44.667553\n",
      "  44.832523  40.66814   44.83357   46.999744  63.499146  56.333977\n",
      "  57.499065  56.16791   60.16689   62.831593  60.833305  56.835266\n",
      "  58.83368   63.00013   41.335155  52.33389   53.999977  62.497814\n",
      "  60.665894  59.002502  60.165154  49.334705  58.333214  66.49893\n",
      "  66.166435  55.666702  41.167564  44.66685   60.49896   58.501225\n",
      "  59.49967   71.16572   68.66802   80.998245  48.33509   66.500595\n",
      "  88.83302   90.33183   58.500168  79.83297   80.33372  100.33248\n",
      "  80.00085   85.4992    82.500145  78.83343   45.666836  45.167343\n",
      "  63.666336  80.99958   64.66656   60.000755  80.83321   93.832596\n",
      "  45.000538  68.000206  69.16682   80.33346   86.000015  87.33301\n",
      " 100.16549   61.999996  40.834217  48.833496  75.83256   53.667534\n",
      "  67.83362   76.49975   87.66571   67.333084  62.50107   64.498985\n",
      "  60.667942  66.000206  76.666695 102.83303  135.66483  108.66686\n",
      "  91.16626   86.501656  91.99808   88.83554   98.832756 112.83157\n",
      "  64.66714   66.3337    76.664665  76.50051   64.33322   30.834738\n",
      "  38.16692   40.498672  40.168415  56.833138  69.66516   69.333466\n",
      "  48.000202  43.66757   44.333416  56.332134  53.16701   46.665966\n",
      "  42.66784   42.99855   42.16721   36.501587  46.99999   48.832916\n",
      "  52.831024  45.499977  40.16702   35.50041   34.501194  40.830994\n",
      "  34.999912  32.33385   27.335798  35.999615  36.665016  31.999855\n",
      "  26.335823  31.167164  33.16675   36.997757  35.500393  35.16781\n",
      "  38.16516   36.50018   32.833797  29.834368  40.165302  35.666157\n",
      "  32.83507   35.666946  35.666946  38.16596   39.33024   36.999886\n",
      "  34.33576   36.49737   32.502426  32.99829   29.499918  22.502361\n",
      "  27.664516  25.669458  28.333517  32.497925  26.501623  32.99976\n",
      "  33.998978  33.83308   24.167654  25.500235  27.165081  26.71455\n",
      "  25.144455  26.71447   27.143028  28.285667  29.57115   33.56905\n",
      "  32.857136  32.287083  33.99793   31.857244  28.570992  24.145487\n",
      "  31.426048  29.714233  27.4288    26.285751  25.144815  26.855356\n",
      "  25.572987  27.1414    25.14406   25.714745  27.856878  30.28475\n",
      "  26.142897  25.71522   26.28592   27.714455  27.999916  29.71374\n",
      "  29.71374   27.572372  27.85576   26.429358  23.713242  22.571737\n",
      "  22.001438  23.569336  22.428833  21.145016  23.285824  29.854446\n",
      "  27.999907  26.571327]\n"
     ]
    }
   ],
   "source": [
    "print(forecast_xgb_pm10)\n"
   ]
  },
  {
   "cell_type": "code",
   "execution_count": 38,
   "id": "24a4fe5f",
   "metadata": {},
   "outputs": [
    {
     "ename": "NameError",
     "evalue": "name 'train' is not defined",
     "output_type": "error",
     "traceback": [
      "\u001b[1;31m---------------------------------------------------------------------------\u001b[0m",
      "\u001b[1;31mNameError\u001b[0m                                 Traceback (most recent call last)",
      "\u001b[1;32m~\\AppData\\Local\\Temp\\ipykernel_6672\\523192454.py\u001b[0m in \u001b[0;36m<module>\u001b[1;34m\u001b[0m\n\u001b[0;32m      2\u001b[0m \u001b[1;33m\u001b[0m\u001b[0m\n\u001b[0;32m      3\u001b[0m \u001b[0mplt\u001b[0m\u001b[1;33m.\u001b[0m\u001b[0mfigure\u001b[0m\u001b[1;33m(\u001b[0m\u001b[0mfigsize\u001b[0m\u001b[1;33m=\u001b[0m\u001b[1;33m(\u001b[0m\u001b[1;36m10\u001b[0m\u001b[1;33m,\u001b[0m \u001b[1;36m6\u001b[0m\u001b[1;33m)\u001b[0m\u001b[1;33m)\u001b[0m\u001b[1;33m\u001b[0m\u001b[1;33m\u001b[0m\u001b[0m\n\u001b[1;32m----> 4\u001b[1;33m \u001b[0mplt\u001b[0m\u001b[1;33m.\u001b[0m\u001b[0mplot\u001b[0m\u001b[1;33m(\u001b[0m\u001b[0mtrain\u001b[0m\u001b[1;33m.\u001b[0m\u001b[0mindex\u001b[0m\u001b[1;33m,\u001b[0m \u001b[0mtrain\u001b[0m\u001b[1;33m[\u001b[0m\u001b[1;34m'pm10'\u001b[0m\u001b[1;33m]\u001b[0m\u001b[1;33m,\u001b[0m \u001b[0mlabel\u001b[0m\u001b[1;33m=\u001b[0m\u001b[1;34m'Train'\u001b[0m\u001b[1;33m)\u001b[0m\u001b[1;33m\u001b[0m\u001b[1;33m\u001b[0m\u001b[0m\n\u001b[0m\u001b[0;32m      5\u001b[0m \u001b[0mplt\u001b[0m\u001b[1;33m.\u001b[0m\u001b[0mplot\u001b[0m\u001b[1;33m(\u001b[0m\u001b[0mtest\u001b[0m\u001b[1;33m.\u001b[0m\u001b[0mindex\u001b[0m\u001b[1;33m,\u001b[0m \u001b[0mtest\u001b[0m\u001b[1;33m[\u001b[0m\u001b[1;34m'pm10'\u001b[0m\u001b[1;33m]\u001b[0m\u001b[1;33m,\u001b[0m \u001b[0mlabel\u001b[0m\u001b[1;33m=\u001b[0m\u001b[1;34m'Test'\u001b[0m\u001b[1;33m)\u001b[0m\u001b[1;33m\u001b[0m\u001b[1;33m\u001b[0m\u001b[0m\n\u001b[0;32m      6\u001b[0m \u001b[0mplt\u001b[0m\u001b[1;33m.\u001b[0m\u001b[0mplot\u001b[0m\u001b[1;33m(\u001b[0m\u001b[0mforecast_arima_pm10\u001b[0m\u001b[1;33m.\u001b[0m\u001b[0mindex\u001b[0m\u001b[1;33m,\u001b[0m \u001b[0mforecast_arima_pm10\u001b[0m\u001b[1;33m,\u001b[0m \u001b[0mlabel\u001b[0m\u001b[1;33m=\u001b[0m\u001b[1;34m'SARIMA'\u001b[0m\u001b[1;33m)\u001b[0m\u001b[1;33m\u001b[0m\u001b[1;33m\u001b[0m\u001b[0m\n",
      "\u001b[1;31mNameError\u001b[0m: name 'train' is not defined"
     ]
    },
    {
     "data": {
      "text/plain": [
       "<Figure size 1000x600 with 0 Axes>"
      ]
     },
     "metadata": {},
     "output_type": "display_data"
    }
   ],
   "source": [
    "plt.figure(figsize=(10, 6))\n",
    "plt.plot(train.index, train['pm10'], label='Train')\n",
    "plt.plot(test.index, test['pm10'], label='Test')\n",
    "plt.plot(forecast_arima_pm10.index, forecast_arima_pm10, label='SARIMA')\n",
    "plt.legend(loc='best')\n",
    "plt.title('SARIMA forecast vs actual data')\n",
    "plt.show()"
   ]
  },
  {
   "cell_type": "code",
   "execution_count": 39,
   "id": "37aa1846",
   "metadata": {
    "collapsed": true
   },
   "outputs": [
    {
     "data": {
      "text/html": [
       "<div>\n",
       "<style scoped>\n",
       "    .dataframe tbody tr th:only-of-type {\n",
       "        vertical-align: middle;\n",
       "    }\n",
       "\n",
       "    .dataframe tbody tr th {\n",
       "        vertical-align: top;\n",
       "    }\n",
       "\n",
       "    .dataframe thead th {\n",
       "        text-align: right;\n",
       "    }\n",
       "</style>\n",
       "<table border=\"1\" class=\"dataframe\">\n",
       "  <thead>\n",
       "    <tr style=\"text-align: right;\">\n",
       "      <th></th>\n",
       "      <th>pm10</th>\n",
       "    </tr>\n",
       "    <tr>\n",
       "      <th>date</th>\n",
       "      <th></th>\n",
       "    </tr>\n",
       "  </thead>\n",
       "  <tbody>\n",
       "    <tr>\n",
       "      <th>2023-05-28</th>\n",
       "      <td>24.0</td>\n",
       "    </tr>\n",
       "    <tr>\n",
       "      <th>2023-05-29</th>\n",
       "      <td>22.0</td>\n",
       "    </tr>\n",
       "    <tr>\n",
       "      <th>2023-05-30</th>\n",
       "      <td>26.0</td>\n",
       "    </tr>\n",
       "    <tr>\n",
       "      <th>2023-05-31</th>\n",
       "      <td>27.0</td>\n",
       "    </tr>\n",
       "    <tr>\n",
       "      <th>2023-06-01</th>\n",
       "      <td>28.0</td>\n",
       "    </tr>\n",
       "  </tbody>\n",
       "</table>\n",
       "</div>"
      ],
      "text/plain": [
       "            pm10\n",
       "date            \n",
       "2023-05-28  24.0\n",
       "2023-05-29  22.0\n",
       "2023-05-30  26.0\n",
       "2023-05-31  27.0\n",
       "2023-06-01  28.0"
      ]
     },
     "execution_count": 39,
     "metadata": {},
     "output_type": "execute_result"
    }
   ],
   "source": [
    "data.tail()"
   ]
  },
  {
   "cell_type": "code",
   "execution_count": 24,
   "id": "5d227fc3",
   "metadata": {
    "collapsed": true
   },
   "outputs": [
    {
     "name": "stderr",
     "output_type": "stream",
     "text": [
      "C:\\ProgramData\\Anaconda3\\lib\\site-packages\\statsmodels\\tsa\\base\\tsa_model.py:471: ValueWarning: A date index has been provided, but it has no associated frequency information and so will be ignored when e.g. forecasting.\n",
      "  self._init_dates(dates, freq)\n",
      "C:\\ProgramData\\Anaconda3\\lib\\site-packages\\statsmodels\\tsa\\base\\tsa_model.py:471: ValueWarning: A date index has been provided, but it has no associated frequency information and so will be ignored when e.g. forecasting.\n",
      "  self._init_dates(dates, freq)\n"
     ]
    },
    {
     "name": "stdout",
     "output_type": "stream",
     "text": [
      "No forecast available for 2024-01-01.\n"
     ]
    },
    {
     "name": "stderr",
     "output_type": "stream",
     "text": [
      "C:\\ProgramData\\Anaconda3\\lib\\site-packages\\statsmodels\\tsa\\base\\tsa_model.py:834: ValueWarning: No supported index is available. Prediction results will be given with an integer index beginning at `start`.\n",
      "  return get_prediction_index(\n"
     ]
    },
    {
     "data": {
      "image/png": "[encoded data removed]",
      "text/plain": [
       "<Figure size 1000x500 with 1 Axes>"
      ]
     },
     "metadata": {},
     "output_type": "display_data"
    },
    {
     "ename": "KeyError",
     "evalue": "'2024-01-01'",
     "output_type": "error",
     "traceback": [
      "\u001b[1;31m---------------------------------------------------------------------------\u001b[0m",
      "\u001b[1;31mKeyError\u001b[0m                                  Traceback (most recent call last)",
      "\u001b[1;32m~\\AppData\\Local\\Temp\\ipykernel_1080\\1465569022.py\u001b[0m in \u001b[0;36m<module>\u001b[1;34m\u001b[0m\n\u001b[0;32m     40\u001b[0m \u001b[1;31m# Check the forecasted value for a specific date\u001b[0m\u001b[1;33m\u001b[0m\u001b[1;33m\u001b[0m\u001b[0m\n\u001b[0;32m     41\u001b[0m \u001b[0mforecast_date\u001b[0m \u001b[1;33m=\u001b[0m \u001b[1;34m'2024-01-01'\u001b[0m\u001b[1;33m\u001b[0m\u001b[1;33m\u001b[0m\u001b[0m\n\u001b[1;32m---> 42\u001b[1;33m \u001b[0mforecast_value\u001b[0m \u001b[1;33m=\u001b[0m \u001b[0mforecast_series\u001b[0m\u001b[1;33m.\u001b[0m\u001b[0mloc\u001b[0m\u001b[1;33m[\u001b[0m\u001b[0mforecast_date\u001b[0m\u001b[1;33m]\u001b[0m\u001b[1;33m\u001b[0m\u001b[1;33m\u001b[0m\u001b[0m\n\u001b[0m\u001b[0;32m     43\u001b[0m \u001b[0mprint\u001b[0m\u001b[1;33m(\u001b[0m\u001b[1;34mf\"The forecasted pm10 value for {forecast_date} is {forecast_value}.\"\u001b[0m\u001b[1;33m)\u001b[0m\u001b[1;33m\u001b[0m\u001b[1;33m\u001b[0m\u001b[0m\n",
      "\u001b[1;32mC:\\ProgramData\\Anaconda3\\lib\\site-packages\\pandas\\core\\indexing.py\u001b[0m in \u001b[0;36m__getitem__\u001b[1;34m(self, key)\u001b[0m\n\u001b[0;32m    965\u001b[0m \u001b[1;33m\u001b[0m\u001b[0m\n\u001b[0;32m    966\u001b[0m             \u001b[0mmaybe_callable\u001b[0m \u001b[1;33m=\u001b[0m \u001b[0mcom\u001b[0m\u001b[1;33m.\u001b[0m\u001b[0mapply_if_callable\u001b[0m\u001b[1;33m(\u001b[0m\u001b[0mkey\u001b[0m\u001b[1;33m,\u001b[0m \u001b[0mself\u001b[0m\u001b[1;33m.\u001b[0m\u001b[0mobj\u001b[0m\u001b[1;33m)\u001b[0m\u001b[1;33m\u001b[0m\u001b[1;33m\u001b[0m\u001b[0m\n\u001b[1;32m--> 967\u001b[1;33m             \u001b[1;32mreturn\u001b[0m \u001b[0mself\u001b[0m\u001b[1;33m.\u001b[0m\u001b[0m_getitem_axis\u001b[0m\u001b[1;33m(\u001b[0m\u001b[0mmaybe_callable\u001b[0m\u001b[1;33m,\u001b[0m \u001b[0maxis\u001b[0m\u001b[1;33m=\u001b[0m\u001b[0maxis\u001b[0m\u001b[1;33m)\u001b[0m\u001b[1;33m\u001b[0m\u001b[1;33m\u001b[0m\u001b[0m\n\u001b[0m\u001b[0;32m    968\u001b[0m \u001b[1;33m\u001b[0m\u001b[0m\n\u001b[0;32m    969\u001b[0m     \u001b[1;32mdef\u001b[0m \u001b[0m_is_scalar_access\u001b[0m\u001b[1;33m(\u001b[0m\u001b[0mself\u001b[0m\u001b[1;33m,\u001b[0m \u001b[0mkey\u001b[0m\u001b[1;33m:\u001b[0m \u001b[0mtuple\u001b[0m\u001b[1;33m)\u001b[0m\u001b[1;33m:\u001b[0m\u001b[1;33m\u001b[0m\u001b[1;33m\u001b[0m\u001b[0m\n",
      "\u001b[1;32mC:\\ProgramData\\Anaconda3\\lib\\site-packages\\pandas\\core\\indexing.py\u001b[0m in \u001b[0;36m_getitem_axis\u001b[1;34m(self, key, axis)\u001b[0m\n\u001b[0;32m   1203\u001b[0m         \u001b[1;31m# fall thru to straight lookup\u001b[0m\u001b[1;33m\u001b[0m\u001b[1;33m\u001b[0m\u001b[0m\n\u001b[0;32m   1204\u001b[0m         \u001b[0mself\u001b[0m\u001b[1;33m.\u001b[0m\u001b[0m_validate_key\u001b[0m\u001b[1;33m(\u001b[0m\u001b[0mkey\u001b[0m\u001b[1;33m,\u001b[0m \u001b[0maxis\u001b[0m\u001b[1;33m)\u001b[0m\u001b[1;33m\u001b[0m\u001b[1;33m\u001b[0m\u001b[0m\n\u001b[1;32m-> 1205\u001b[1;33m         \u001b[1;32mreturn\u001b[0m \u001b[0mself\u001b[0m\u001b[1;33m.\u001b[0m\u001b[0m_get_label\u001b[0m\u001b[1;33m(\u001b[0m\u001b[0mkey\u001b[0m\u001b[1;33m,\u001b[0m \u001b[0maxis\u001b[0m\u001b[1;33m=\u001b[0m\u001b[0maxis\u001b[0m\u001b[1;33m)\u001b[0m\u001b[1;33m\u001b[0m\u001b[1;33m\u001b[0m\u001b[0m\n\u001b[0m\u001b[0;32m   1206\u001b[0m \u001b[1;33m\u001b[0m\u001b[0m\n\u001b[0;32m   1207\u001b[0m     \u001b[1;32mdef\u001b[0m \u001b[0m_get_slice_axis\u001b[0m\u001b[1;33m(\u001b[0m\u001b[0mself\u001b[0m\u001b[1;33m,\u001b[0m \u001b[0mslice_obj\u001b[0m\u001b[1;33m:\u001b[0m \u001b[0mslice\u001b[0m\u001b[1;33m,\u001b[0m \u001b[0maxis\u001b[0m\u001b[1;33m:\u001b[0m \u001b[0mint\u001b[0m\u001b[1;33m)\u001b[0m\u001b[1;33m:\u001b[0m\u001b[1;33m\u001b[0m\u001b[1;33m\u001b[0m\u001b[0m\n",
      "\u001b[1;32mC:\\ProgramData\\Anaconda3\\lib\\site-packages\\pandas\\core\\indexing.py\u001b[0m in \u001b[0;36m_get_label\u001b[1;34m(self, label, axis)\u001b[0m\n\u001b[0;32m   1151\u001b[0m     \u001b[1;32mdef\u001b[0m \u001b[0m_get_label\u001b[0m\u001b[1;33m(\u001b[0m\u001b[0mself\u001b[0m\u001b[1;33m,\u001b[0m \u001b[0mlabel\u001b[0m\u001b[1;33m,\u001b[0m \u001b[0maxis\u001b[0m\u001b[1;33m:\u001b[0m \u001b[0mint\u001b[0m\u001b[1;33m)\u001b[0m\u001b[1;33m:\u001b[0m\u001b[1;33m\u001b[0m\u001b[1;33m\u001b[0m\u001b[0m\n\u001b[0;32m   1152\u001b[0m         \u001b[1;31m# GH#5667 this will fail if the label is not present in the axis.\u001b[0m\u001b[1;33m\u001b[0m\u001b[1;33m\u001b[0m\u001b[0m\n\u001b[1;32m-> 1153\u001b[1;33m         \u001b[1;32mreturn\u001b[0m \u001b[0mself\u001b[0m\u001b[1;33m.\u001b[0m\u001b[0mobj\u001b[0m\u001b[1;33m.\u001b[0m\u001b[0mxs\u001b[0m\u001b[1;33m(\u001b[0m\u001b[0mlabel\u001b[0m\u001b[1;33m,\u001b[0m \u001b[0maxis\u001b[0m\u001b[1;33m=\u001b[0m\u001b[0maxis\u001b[0m\u001b[1;33m)\u001b[0m\u001b[1;33m\u001b[0m\u001b[1;33m\u001b[0m\u001b[0m\n\u001b[0m\u001b[0;32m   1154\u001b[0m \u001b[1;33m\u001b[0m\u001b[0m\n\u001b[0;32m   1155\u001b[0m     \u001b[1;32mdef\u001b[0m \u001b[0m_handle_lowerdim_multi_index_axis0\u001b[0m\u001b[1;33m(\u001b[0m\u001b[0mself\u001b[0m\u001b[1;33m,\u001b[0m \u001b[0mtup\u001b[0m\u001b[1;33m:\u001b[0m \u001b[0mtuple\u001b[0m\u001b[1;33m)\u001b[0m\u001b[1;33m:\u001b[0m\u001b[1;33m\u001b[0m\u001b[1;33m\u001b[0m\u001b[0m\n",
      "\u001b[1;32mC:\\ProgramData\\Anaconda3\\lib\\site-packages\\pandas\\core\\generic.py\u001b[0m in \u001b[0;36mxs\u001b[1;34m(self, key, axis, level, drop_level)\u001b[0m\n\u001b[0;32m   3862\u001b[0m                     \u001b[0mnew_index\u001b[0m \u001b[1;33m=\u001b[0m \u001b[0mindex\u001b[0m\u001b[1;33m[\u001b[0m\u001b[0mloc\u001b[0m\u001b[1;33m]\u001b[0m\u001b[1;33m\u001b[0m\u001b[1;33m\u001b[0m\u001b[0m\n\u001b[0;32m   3863\u001b[0m         \u001b[1;32melse\u001b[0m\u001b[1;33m:\u001b[0m\u001b[1;33m\u001b[0m\u001b[1;33m\u001b[0m\u001b[0m\n\u001b[1;32m-> 3864\u001b[1;33m             \u001b[0mloc\u001b[0m \u001b[1;33m=\u001b[0m \u001b[0mindex\u001b[0m\u001b[1;33m.\u001b[0m\u001b[0mget_loc\u001b[0m\u001b[1;33m(\u001b[0m\u001b[0mkey\u001b[0m\u001b[1;33m)\u001b[0m\u001b[1;33m\u001b[0m\u001b[1;33m\u001b[0m\u001b[0m\n\u001b[0m\u001b[0;32m   3865\u001b[0m \u001b[1;33m\u001b[0m\u001b[0m\n\u001b[0;32m   3866\u001b[0m             \u001b[1;32mif\u001b[0m \u001b[0misinstance\u001b[0m\u001b[1;33m(\u001b[0m\u001b[0mloc\u001b[0m\u001b[1;33m,\u001b[0m \u001b[0mnp\u001b[0m\u001b[1;33m.\u001b[0m\u001b[0mndarray\u001b[0m\u001b[1;33m)\u001b[0m\u001b[1;33m:\u001b[0m\u001b[1;33m\u001b[0m\u001b[1;33m\u001b[0m\u001b[0m\n",
      "\u001b[1;32mC:\\ProgramData\\Anaconda3\\lib\\site-packages\\pandas\\core\\indexes\\range.py\u001b[0m in \u001b[0;36mget_loc\u001b[1;34m(self, key, method, tolerance)\u001b[0m\n\u001b[0;32m    387\u001b[0m                     \u001b[1;32mraise\u001b[0m \u001b[0mKeyError\u001b[0m\u001b[1;33m(\u001b[0m\u001b[0mkey\u001b[0m\u001b[1;33m)\u001b[0m \u001b[1;32mfrom\u001b[0m \u001b[0merr\u001b[0m\u001b[1;33m\u001b[0m\u001b[1;33m\u001b[0m\u001b[0m\n\u001b[0;32m    388\u001b[0m             \u001b[0mself\u001b[0m\u001b[1;33m.\u001b[0m\u001b[0m_check_indexing_error\u001b[0m\u001b[1;33m(\u001b[0m\u001b[0mkey\u001b[0m\u001b[1;33m)\u001b[0m\u001b[1;33m\u001b[0m\u001b[1;33m\u001b[0m\u001b[0m\n\u001b[1;32m--> 389\u001b[1;33m             \u001b[1;32mraise\u001b[0m \u001b[0mKeyError\u001b[0m\u001b[1;33m(\u001b[0m\u001b[0mkey\u001b[0m\u001b[1;33m)\u001b[0m\u001b[1;33m\u001b[0m\u001b[1;33m\u001b[0m\u001b[0m\n\u001b[0m\u001b[0;32m    390\u001b[0m         \u001b[1;32mreturn\u001b[0m \u001b[0msuper\u001b[0m\u001b[1;33m(\u001b[0m\u001b[1;33m)\u001b[0m\u001b[1;33m.\u001b[0m\u001b[0mget_loc\u001b[0m\u001b[1;33m(\u001b[0m\u001b[0mkey\u001b[0m\u001b[1;33m,\u001b[0m \u001b[0mmethod\u001b[0m\u001b[1;33m=\u001b[0m\u001b[0mmethod\u001b[0m\u001b[1;33m,\u001b[0m \u001b[0mtolerance\u001b[0m\u001b[1;33m=\u001b[0m\u001b[0mtolerance\u001b[0m\u001b[1;33m)\u001b[0m\u001b[1;33m\u001b[0m\u001b[1;33m\u001b[0m\u001b[0m\n\u001b[0;32m    391\u001b[0m \u001b[1;33m\u001b[0m\u001b[0m\n",
      "\u001b[1;31mKeyError\u001b[0m: '2024-01-01'"
     ]
    }
   ],
   "source": [
    "from pandas.tseries.offsets import DateOffset\n",
    "import matplotlib.pyplot as plt\n",
    "\n",
    "# Define the model\n",
    "model_arima_pm10 = SARIMAX(data['pm10'], order=(1, 1, 1), seasonal_order=(1, 1, 1, 12))\n",
    "# Fit the model\n",
    "model_fit_arima_pm10 = model_arima_pm10.fit(disp=False)\n",
    "\n",
    "# Define the number of steps to forecast. Here we add extra steps to reach into 2024\n",
    "# Add a DateOffset to the last date of 'data' to calculate the difference in days\n",
    "forecast_end = pd.to_datetime('2024-06-01')\n",
    "n_steps = (forecast_end - data.index[-1]) // pd.Timedelta('1D')\n",
    "\n",
    "# Get forecast n_steps ahead in future\n",
    "forecast_arima_pm10 = model_fit_arima_pm10.get_forecast(steps=n_steps)\n",
    "\n",
    "# Get confidence intervals of forecasts\n",
    "forecast_ci = forecast_arima_pm10.conf_int()\n",
    "\n",
    "# Convert forecast to pandas Series for easier plotting\n",
    "forecast_series = pd.Series(forecast_arima_pm10.predicted_mean, index=forecast_ci.index)\n",
    "\n",
    "# Plot the data\n",
    "plt.figure(figsize=(10, 5))\n",
    "plt.plot(data['pm10'], label='Historical data')\n",
    "plt.plot(forecast_series, label='Forecast')\n",
    "plt.fill_between(forecast_ci.index, forecast_ci.iloc[:, 0], forecast_ci.iloc[:, 1], color='k', alpha=.25)\n",
    "plt.legend()\n",
    "plt.title('Forecasting pm10 until 2024')\n",
    "plt.grid(True)\n",
    "plt.show()\n",
    "\n",
    "# Check the forecasted value for a specific date\n",
    "forecast_date = '2024-01-01'\n",
    "forecast_value = forecast_series.loc[forecast_date]\n",
    "print(f\"The forecasted pm10 value for {forecast_date} is {forecast_value}.\")"
   ]
  },
  {
   "cell_type": "code",
   "execution_count": null,
   "id": "6d5a642c",
   "metadata": {},
   "outputs": [],
   "source": []
  }
 ],
 "metadata": {
  "kernelspec": {
   "display_name": "Python 3 (ipykernel)",
   "language": "python",
   "name": "python3"
  },
  "language_info": {
   "codemirror_mode": {
    "name": "ipython",
    "version": 3
   },
   "file_extension": ".py",
   "mimetype": "text/x-python",
   "name": "python",
   "nbconvert_exporter": "python",
   "pygments_lexer": "ipython3",
   "version": "3.9.13"
  }
 },
 "nbformat": 4,
 "nbformat_minor": 5
}
